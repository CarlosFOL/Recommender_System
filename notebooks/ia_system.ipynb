{
 "cells": [
  {
   "cell_type": "code",
   "execution_count": 1,
   "id": "fcaa6ed0-ff2c-479a-892d-54fd37794bce",
   "metadata": {},
   "outputs": [],
   "source": [
    "import polars as pl"
   ]
  },
  {
   "cell_type": "markdown",
   "id": "b4e5f7a5-d8db-4a08-9f05-7c6be3254dce",
   "metadata": {},
   "source": [
    "# Recommender AI System"
   ]
  },
  {
   "cell_type": "code",
   "execution_count": 3,
   "id": "d0649ec9-532d-45d2-8d41-39e86bef3275",
   "metadata": {},
   "outputs": [],
   "source": [
    "# Load the data\n",
    "df_train_data = pl.read_parquet(\"../data/train.parquet\", n_rows = 5)"
   ]
  },
  {
   "cell_type": "code",
   "execution_count": 6,
   "id": "b78d0acb-07ea-4b0e-8d95-f73ac42c8c40",
   "metadata": {},
   "outputs": [
    {
     "data": {
      "text/plain": [
       "['session_id',\n",
       " 'date',\n",
       " 'timestamp_local',\n",
       " 'add_to_cart',\n",
       " 'user_id',\n",
       " 'country',\n",
       " 'partnumber',\n",
       " 'device_type',\n",
       " 'pagetype']"
      ]
     },
     "execution_count": 6,
     "metadata": {},
     "output_type": "execute_result"
    }
   ],
   "source": [
    "df_train_data.columns"
   ]
  }
 ],
 "metadata": {
  "kernelspec": {
   "display_name": "Python 3 (ipykernel)",
   "language": "python",
   "name": "python3"
  },
  "language_info": {
   "codemirror_mode": {
    "name": "ipython",
    "version": 3
   },
   "file_extension": ".py",
   "mimetype": "text/x-python",
   "name": "python",
   "nbconvert_exporter": "python",
   "pygments_lexer": "ipython3",
   "version": "3.12.3"
  }
 },
 "nbformat": 4,
 "nbformat_minor": 5
}
