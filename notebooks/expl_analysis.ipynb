{
 "cells": [
  {
   "cell_type": "code",
   "execution_count": 5,
   "id": "461966e4-1aa3-4b1b-a54d-e7fdf58d1240",
   "metadata": {},
   "outputs": [],
   "source": [
    "# So that the interpreter can access scripts.\n",
    "import os\n",
    "import sys\n",
    "\n",
    "path_project = os.path.abspath(os.path.join(os.getcwd(), \"..\"))\n",
    "if path_project not in set(sys.path):\n",
    "    sys.path.append(path_project) # To avoid insert it many times"
   ]
  },
  {
   "cell_type": "code",
   "execution_count": 6,
   "id": "3719c67b-f5fe-4169-9f06-f0edfe1adf67",
   "metadata": {},
   "outputs": [],
   "source": [
    "import numpy as np\n",
    "import matplotlib.pyplot as plt\n",
    "import pandas as pd\n",
    "import pickle\n",
    "from sklearn.cluster import KMeans\n",
    "from sklearn.neighbors import NearestNeighbors\n",
    "from sklearn.metrics import silhouette_score\n",
    "from scripts.hdbscan import HDBSCAN_Analysis\n",
    "from scripts.kmeans import centroid_clusters, plot_kmeans_stats, kmeans_statistics \n",
    "import seaborn as sns\n",
    "from time import time_ns"
   ]
  },
  {
   "cell_type": "markdown",
   "id": "d457ef5c-e156-4702-b0d8-189d79f6d819",
   "metadata": {},
   "source": [
    "# <span style = \"color:brown\"><ins>ANALYSIS OF CLIENT'S BEHAVIOUR OF A E-COMMERCE RETAIL</ins></span>\n",
    "\n",
    "The datasets that we will use for this exploratory analysis are the following:"
   ]
  },
  {
   "cell_type": "markdown",
   "id": "591f19b8-28cb-4a10-af31-0cb588570d04",
   "metadata": {},
   "source": [
    "## USERS DATASET\n",
    "\n",
    "### Variables:\n",
    "\n",
    "* id: User's identifier\n",
    "* country: Where the user belongs.\n",
    "\n",
    "[Investopedia (2024, August 14) What is Frequency, Recency, Monetary value (RFM) in Marketing?](https://www.investopedia.com/terms/r/rfm-recency-frequency-monetary-value.asp)\n",
    "\n",
    "The RFM is a marketing tool used for a firm to identify which are the best clients or customers according by their spending habits. Through this model, an organization is able to score them (1 to 5) by using these variables. And in this way, they can predict which ones are likely to purchase their products again or how to turn occasional buyers into habitual ones.\n",
    "\n",
    "RFM analysis allows a comparison between potential contributors and clients. It gives organizations a sense of how much revenue comes from repeat customers (vs new customers).\n",
    "\n",
    "* R: Recency. How long ago the user made a purchase.\n",
    "* F: User's purchase frequency. How often they make purchases.\n",
    "* M: Monetary value that the customer spends on purchases.\n"
   ]
  },
  {
   "cell_type": "code",
   "execution_count": 7,
   "id": "51317f46-ea1a-4de6-a527-9a0ede21125d",
   "metadata": {},
   "outputs": [],
   "source": [
    "# TRANSFORMATION OF THE RAW DATA:\n",
    "df_users = pd.read_csv(\"../data/users.csv\", index_col=\"id\")"
   ]
  },
  {
   "cell_type": "code",
   "execution_count": 8,
   "id": "fabeda67-5982-48cd-90f5-845a34dbcb43",
   "metadata": {},
   "outputs": [
    {
     "data": {
      "text/plain": [
       "country      int64\n",
       "R            int64\n",
       "F            int64\n",
       "M          float64\n",
       "dtype: object"
      ]
     },
     "execution_count": 8,
     "metadata": {},
     "output_type": "execute_result"
    }
   ],
   "source": [
    "df_users.dtypes"
   ]
  },
  {
   "cell_type": "markdown",
   "id": "e784d5be-eb4f-4160-95c8-4b389989dc6a",
   "metadata": {},
   "source": [
    "Let's see which countries's id are the most frequent in the users of this retail."
   ]
  },
  {
   "cell_type": "code",
   "execution_count": 9,
   "id": "5b59501e-b78f-4aca-a6b1-c908bf69f074",
   "metadata": {},
   "outputs": [
    {
     "data": {
      "text/plain": [
       "country\n",
       "25    0.982086\n",
       "46    0.002750\n",
       "13    0.002041\n",
       "39    0.001553\n",
       "20    0.001458\n",
       "Name: count, dtype: float64"
      ]
     },
     "execution_count": 9,
     "metadata": {},
     "output_type": "execute_result"
    }
   ],
   "source": [
    "n = df_users.shape[0]\n",
    "# Plot the proportion of users by country's id\n",
    "prop = df_users[\"country\"].value_counts() / n\n",
    "prop[:5]"
   ]
  },
  {
   "cell_type": "markdown",
   "id": "620d43d6-ce33-4c1d-aafc-58cce36b45d9",
   "metadata": {},
   "source": [
    "We can see that the $98$% of the users belongs to the country whose identifier is 25. Unfortunately, we don't have a table that tell us which country is according to the id.\n",
    "\n",
    "On the other hand, it's interessant to take a look of the last time that users has made a purchase in the e-commerce retail. We will consider the values of `R` is expresseed in days according to its description for this task."
   ]
  },
  {
   "cell_type": "code",
   "execution_count": 10,
   "id": "2bf9aaa0-c2df-40a4-b06f-e6bf86911a6d",
   "metadata": {},
   "outputs": [
    {
     "data": {
      "text/plain": [
       "count    557006.000000\n",
       "mean         63.370895\n",
       "std         128.671249\n",
       "min           0.000000\n",
       "25%           5.000000\n",
       "50%          18.000000\n",
       "75%          58.000000\n",
       "max        1095.000000\n",
       "Name: R, dtype: float64"
      ]
     },
     "execution_count": 10,
     "metadata": {},
     "output_type": "execute_result"
    },
    {
     "data": {
      "image/png": "[encoded data removed]",
      "text/plain": [
       "<Figure size 600x300 with 1 Axes>"
      ]
     },
     "metadata": {},
     "output_type": "display_data"
    }
   ],
   "source": [
    "df_users['R'].plot(kind = \"hist\",\n",
    "                   title = \"Distribution of Users's recency\",\n",
    "                   density = True,\n",
    "                   ylabel = \"Density\",\n",
    "                   xlabel = \"R\",\n",
    "                   figsize = (6, 3)\n",
    "                  )\n",
    "df_users['R'].describe()"
   ]
  },
  {
   "cell_type": "code",
   "execution_count": 11,
   "id": "adf973c3-246f-4a27-a460-f0b69f963651",
   "metadata": {},
   "outputs": [
    {
     "name": "stdout",
     "output_type": "stream",
     "text": [
      "The 93.0% of users has made a purchase in the last 6 month(s) aprox.\n",
      "The 62.0% of users has made a purchase in the last 1 month(s) aprox.\n",
      "The 4.0% of users have not made a purchase in over a year.\n"
     ]
    }
   ],
   "source": [
    "R_pct = lambda threshold: np.mean(df_users[\"R\"] <= threshold).round(2) * 100\n",
    "R_outcome = lambda days: print(f\"The {R_pct(days)}% of users has made a purchase in the last {days//30} month(s) aprox.\")\n",
    "# Compute how long ago the vast majority of users has made a purchase\n",
    "R_outcome(200)\n",
    "# The pct of people that made a purchase in the last month\n",
    "R_outcome(30)\n",
    "# Customers who have not made a purchase in over year\n",
    "R_geq_365 = 100 - R_pct(365)\n",
    "print(f\"The {R_geq_365}% of users have not made a purchase in over a year.\")"
   ]
  },
  {
   "cell_type": "markdown",
   "id": "a73c15de-d09b-4365-a3a2-c097768727b4",
   "metadata": {},
   "source": [
    "This variable has a high variability. We can see that more than 50% of records in this sample is from people that has made a purchase in the last month. The organization needs to pay attention of them, because the more recently a user has made a purchase with a company, the more likely they will continue to keep the business and brand in mind for subsequent purchases.\n",
    "\n",
    "Now, let's know about how often the clients make a purchase by studying the variable `F`."
   ]
  },
  {
   "cell_type": "code",
   "execution_count": 12,
   "id": "8726008e-b86a-4bfd-be7a-e82867598266",
   "metadata": {},
   "outputs": [
    {
     "data": {
      "image/png": "[encoded data removed]",
      "text/plain": [
       "<Figure size 400x300 with 1 Axes>"
      ]
     },
     "metadata": {},
     "output_type": "display_data"
    },
    {
     "data": {
      "text/plain": [
       "count    557006.000000\n",
       "mean         36.941340\n",
       "std          57.409948\n",
       "min           0.000000\n",
       "25%           8.000000\n",
       "50%          22.000000\n",
       "75%          47.000000\n",
       "max       10754.000000\n",
       "Name: F, dtype: float64"
      ]
     },
     "execution_count": 12,
     "metadata": {},
     "output_type": "execute_result"
    }
   ],
   "source": [
    "F_intervals = pd.cut(df_users['F'], \n",
    "                     [0, 1000, df_users['F'].max()], \n",
    "                     labels = [\"<1k\", \">1k\"],\n",
    "                     include_lowest=True)\n",
    "# Graph\n",
    "fig, ax = plt.subplots(figsize = (4, 3))\n",
    "ax.pie(F_intervals.value_counts(),\n",
    "        autopct = \"%.2f%%\",\n",
    "        labels = F_intervals.unique())\n",
    "ax.set_title(\"Clients who have made more than 1k purchases\\nVS those who haven't\")\n",
    "plt.show()\n",
    "# Stats\n",
    "df_users['F'].describe()"
   ]
  },
  {
   "cell_type": "markdown",
   "id": "596cbf8c-481f-4d8e-8a05-38319c75896e",
   "metadata": {},
   "source": [
    "It's amazing that there are customers that have made more than 1k purchases, let's see when it was the last time that they have made a purchase in order to see if this happened in the last month."
   ]
  },
  {
   "cell_type": "code",
   "execution_count": 13,
   "id": "1447d904-c208-4e59-a604-66926ca3e80a",
   "metadata": {},
   "outputs": [
    {
     "data": {
      "image/png": "[encoded data removed]",
      "text/plain": [
       "<Figure size 600x200 with 1 Axes>"
      ]
     },
     "metadata": {},
     "output_type": "display_data"
    }
   ],
   "source": [
    "F_geq_1k = df_users[\"F\"] >= 10**3\n",
    "# Graph\n",
    "fig, ax = plt.subplots(figsize=(6, 2))\n",
    "ax.set_title(\"Recency from customer\\nwith more than 1k purchases\")\n",
    "sns.ecdfplot(df_users.loc[F_geq_1k, :], x=\"R\", ax = ax)\n",
    "plt.show()"
   ]
  },
  {
   "cell_type": "markdown",
   "id": "98802ba9-0e1d-4887-8282-a6fb6fea6071",
   "metadata": {},
   "source": [
    "As we have expected, more than 80% of these customers have made a purchase in at most 20 days ago. They could be the group of loyal customers for this organization due to the combination of their recency (`R`) and frequency (`F`).\n",
    "\n",
    "It's time to visualize the amount of money that the customers have spent in this period. We want to know if those who have make a large number of purchases are the ones who have spent more money."
   ]
  },
  {
   "cell_type": "code",
   "execution_count": 14,
   "id": "7c9ef769-3fa3-4992-aef4-98cdd2588edd",
   "metadata": {},
   "outputs": [
    {
     "data": {
      "text/plain": [
       "count    5.570060e+05\n",
       "mean     3.980345e+02\n",
       "std      3.781268e+04\n",
       "min      0.000000e+00\n",
       "25%      2.758333e+01\n",
       "50%      3.794000e+01\n",
       "75%      5.179052e+01\n",
       "max      1.516590e+07\n",
       "Name: M, dtype: float64"
      ]
     },
     "execution_count": 14,
     "metadata": {},
     "output_type": "execute_result"
    },
    {
     "data": {
      "image/png": "[encoded data removed]",
      "text/plain": [
       "<Figure size 500x300 with 1 Axes>"
      ]
     },
     "metadata": {},
     "output_type": "display_data"
    }
   ],
   "source": [
    "df_users[\"M\"].plot(kind = \"box\", \n",
    "                  figsize = (5, 3),\n",
    "                  title = \"Monetary value that customers spent in purchases\")\n",
    "df_users[\"M\"].describe()"
   ]
  },
  {
   "cell_type": "code",
   "execution_count": 15,
   "id": "9005324d-2449-4e19-b119-c6cfec7d0d29",
   "metadata": {},
   "outputs": [
    {
     "name": "stdout",
     "output_type": "stream",
     "text": [
      "The  96.85% of customer have spent at most 100 dollars in purchases\n"
     ]
    }
   ],
   "source": [
    "M_leq_1c = np.mean(df_users[\"M\"] <= 100) * 100\n",
    "print(f\"The {M_leq_1c: .2f}% of customer have spent at most 100 dollars in purchases\")"
   ]
  },
  {
   "cell_type": "markdown",
   "id": "45072692-cf7f-45cc-93c7-0614b45b8d21",
   "metadata": {},
   "source": [
    "There is people who have spent millions of dollars in purchases! Let's check if they are those who have made a purchase in the last month and have a large number of purchases. "
   ]
  },
  {
   "cell_type": "code",
   "execution_count": 16,
   "id": "a5f8a019-fd26-4ce8-9a51-01b225eb08d5",
   "metadata": {},
   "outputs": [
    {
     "data": {
      "text/html": [
       "<div>\n",
       "<style scoped>\n",
       "    .dataframe tbody tr th:only-of-type {\n",
       "        vertical-align: middle;\n",
       "    }\n",
       "\n",
       "    .dataframe tbody tr th {\n",
       "        vertical-align: top;\n",
       "    }\n",
       "\n",
       "    .dataframe thead th {\n",
       "        text-align: right;\n",
       "    }\n",
       "</style>\n",
       "<table border=\"1\" class=\"dataframe\">\n",
       "  <thead>\n",
       "    <tr style=\"text-align: right;\">\n",
       "      <th></th>\n",
       "      <th>R</th>\n",
       "      <th>F</th>\n",
       "      <th>M</th>\n",
       "    </tr>\n",
       "  </thead>\n",
       "  <tbody>\n",
       "    <tr>\n",
       "      <th>count</th>\n",
       "      <td>48.000000</td>\n",
       "      <td>48.000000</td>\n",
       "      <td>4.800000e+01</td>\n",
       "    </tr>\n",
       "    <tr>\n",
       "      <th>mean</th>\n",
       "      <td>384.958333</td>\n",
       "      <td>2.625000</td>\n",
       "      <td>2.856458e+06</td>\n",
       "    </tr>\n",
       "    <tr>\n",
       "      <th>std</th>\n",
       "      <td>290.338171</td>\n",
       "      <td>2.393475</td>\n",
       "      <td>2.863818e+06</td>\n",
       "    </tr>\n",
       "    <tr>\n",
       "      <th>min</th>\n",
       "      <td>1.000000</td>\n",
       "      <td>1.000000</td>\n",
       "      <td>1.029800e+06</td>\n",
       "    </tr>\n",
       "    <tr>\n",
       "      <th>25%</th>\n",
       "      <td>160.500000</td>\n",
       "      <td>1.000000</td>\n",
       "      <td>1.398750e+06</td>\n",
       "    </tr>\n",
       "    <tr>\n",
       "      <th>50%</th>\n",
       "      <td>318.000000</td>\n",
       "      <td>1.000000</td>\n",
       "      <td>1.822938e+06</td>\n",
       "    </tr>\n",
       "    <tr>\n",
       "      <th>75%</th>\n",
       "      <td>518.250000</td>\n",
       "      <td>4.000000</td>\n",
       "      <td>2.802600e+06</td>\n",
       "    </tr>\n",
       "    <tr>\n",
       "      <th>max</th>\n",
       "      <td>1080.000000</td>\n",
       "      <td>10.000000</td>\n",
       "      <td>1.516590e+07</td>\n",
       "    </tr>\n",
       "  </tbody>\n",
       "</table>\n",
       "</div>"
      ],
      "text/plain": [
       "                 R          F             M\n",
       "count    48.000000  48.000000  4.800000e+01\n",
       "mean    384.958333   2.625000  2.856458e+06\n",
       "std     290.338171   2.393475  2.863818e+06\n",
       "min       1.000000   1.000000  1.029800e+06\n",
       "25%     160.500000   1.000000  1.398750e+06\n",
       "50%     318.000000   1.000000  1.822938e+06\n",
       "75%     518.250000   4.000000  2.802600e+06\n",
       "max    1080.000000  10.000000  1.516590e+07"
      ]
     },
     "execution_count": 16,
     "metadata": {},
     "output_type": "execute_result"
    },
    {
     "data": {
      "image/png": "[encoded data removed]",
      "text/plain": [
       "<Figure size 1000x200 with 3 Axes>"
      ]
     },
     "metadata": {},
     "output_type": "display_data"
    }
   ],
   "source": [
    "M_geq_1M = df_users.loc[df_users[\"M\"] >= 1e6, [\"R\", \"F\", \"M\"]] \n",
    "# Graph\n",
    "fig, axes = plt.subplots(1, 3, figsize = (10, 2))\n",
    "fig.suptitle(\"RFM analysis of customers that have spent > 1 million dollars in purchases\")\n",
    "for idx, stat in enumerate(M_geq_1M.columns):\n",
    "    sns.boxplot(M_geq_1M[stat], ax=axes[idx], orient = \"h\")\n",
    "# Stats\n",
    "M_geq_1M.describe()"
   ]
  },
  {
   "cell_type": "markdown",
   "id": "b5f9603c-b800-4c93-b7ce-2963cf23cbf8",
   "metadata": {},
   "source": [
    "It's interesting that despite the fact these customers are those who spent the largest amount of money in this e-commerce retail, there is a high variability in `R`, where the 50% of people have not made a purchase for more than 10 months (>300 days) ago approx. Also, they are not frequent customers, because the 50% of customers have only buy 1 stuff, but its cost is millionaire.\n"
   ]
  },
  {
   "cell_type": "code",
   "execution_count": 17,
   "id": "81a64a30-5308-4628-a233-81dc70d4f812",
   "metadata": {},
   "outputs": [
    {
     "name": "stdout",
     "output_type": "stream",
     "text": [
      "Although these customers are not the active buyers, their contribution represent the  62.00% of revenues for this organization.\n"
     ]
    }
   ],
   "source": [
    "pct_revenue = np.round(M_geq_1M.loc[:, \"M\"].sum() / df_users.loc[:, \"M\"].sum(), 2) * 100\n",
    "print(f\"Although these customers are not the active buyers, their contribution represent the {pct_revenue: .2f}% of revenues for this organization.\")"
   ]
  },
  {
   "cell_type": "code",
   "execution_count": 18,
   "id": "58b129de-4745-4e60-a11d-92bdc835daf9",
   "metadata": {},
   "outputs": [
    {
     "data": {
      "image/png": "[encoded data removed]",
      "text/plain": [
       "<Figure size 600x300 with 1 Axes>"
      ]
     },
     "metadata": {},
     "output_type": "display_data"
    }
   ],
   "source": [
    "M_active_buyers = df_users.loc[F_geq_1k, :]\n",
    "# Graph\n",
    "fig, ax = plt.subplots(figsize = (6, 3))\n",
    "ax.set_title(\"Monetary value spent by active buyers\")\n",
    "ax.set_xlabel(\"Monetary value ($)\")\n",
    "sns.stripplot(M_active_buyers, x = \"M\", ax=ax)\n",
    "plt.show()"
   ]
  },
  {
   "cell_type": "markdown",
   "id": "6c86e072-8595-4f73-a6db-d47cb69f9ef3",
   "metadata": {},
   "source": [
    "The active buyers are also the ones who purchase the cheapest things. Because they have made more than 1k purchases and the vast majority of these observations has only spent at most 200$ dollars.\n",
    "\n",
    "Through these results one could think that there is no a relation between `F` and `M`. Because, if a customer spend a lot of money, that does not mean that this is a active buyer in the e-commererce retail, and vicerversa. Even though, a possible relation could exist between the frequency and recency, after analyzing the group of customers that have made more than 1k purchases. Let's see the correlation matrix:"
   ]
  },
  {
   "cell_type": "code",
   "execution_count": null,
   "id": "f1ce2dc5-1b4b-40f9-9727-5d5040b22fc1",
   "metadata": {},
   "outputs": [],
   "source": [
    "# It's necessary to choose a sampple from our dataset due to its size \n",
    "np.random.seed(123)\n",
    "\n",
    "start = time_ns()\n",
    "\n",
    "# Graph\n",
    "(\n",
    "    sns.pairplot(\n",
    "        data= df_users.loc[\n",
    "            np.random.choice(range(1, n + 1), size = 5000, replace = False),\n",
    "            ['R', 'F', 'M']],\n",
    "        corner=True,\n",
    "        height=2)\n",
    ")\n",
    "plt.plot()\n",
    "\n",
    "end = time_ns() - start\n",
    "print(f\"This taks tooks {end * pow(10, -9): .2f} seconds\")"
   ]
  },
  {
   "cell_type": "markdown",
   "id": "a7fbf0e4-9c5e-4a3f-8c53-bacdfa6e32a6",
   "metadata": {},
   "source": [
    "You can see through the scatterplot between `F` and `M` that there is no a correlation. People who makes a lot of purchases are not the ones that more money spent. Also, as we have said, the people who have peformed millionaire purchases have the lowest `F` values.  \n",
    "\n",
    "On the other hand, despite the fact that there is no clear correlation between `F` and `R`, most customers who made their last purchase recently are the ones more purchases have made.\n",
    "\n",
    "It would be interesting to use the $k$-means algorithm in order to create clusters of customers and analyze what kind of attributes are significant in each of them. To choose the correct value of $k$, we will to analyze the following statistics:\n",
    "\n",
    "* Within Cluster Sums of Squares or Inertia: To measure how compact the clusters are. $$\\text{WSS} = \\Sigma_{i = i}^{N_c}\\Sigma_{x \\in C_i}\\|x - \\bar{X}_{C_i}\\|^2$$\n",
    "\n",
    "* Between Cluster Sums of Squares: To measure how well-separated the clusters are. $$\\text{BSS} = \\Sigma_{i = 1}^{N_c} |C_i|\\cdot\\|\\bar{x}_{C_i} - \\bar{X}\\|^2$$\n",
    "\n",
    "Where: $$N_c\\rightarrow\\text{Number of clusters};\\quad|C_i|\\rightarrow\\text{Number of elements of ith cluster};\\quad\\bar{X}_{C_i}\\rightarrow\\text{Centroid of ith cluster};\\quad\\bar{X}\\rightarrow\\text{Overall centroid}$$"
   ]
  },
  {
   "cell_type": "code",
   "execution_count": null,
   "id": "c1973a87-51b5-43c6-8abb-5d5899592337",
   "metadata": {},
   "outputs": [],
   "source": [
    "# This task is computanionally intensive. So we decide to store the results, to avoid\n",
    "# executing this cell many times:\n",
    "\n",
    "data_path = os.path.abspath(os.path.join(os.getcwd(), \"../data\"))\n",
    "files = set(os.listdir(data_path))\n",
    "# Training data\n",
    "np.random.seed(123)\n",
    "sample = np.random.choice(range(1, n + 1),\n",
    "                          size = round(n*0.2),\n",
    "                          replace = False)\n",
    "X_train = df_users.loc[sample, [\"R\", \"F\", \"M\"]]\n",
    "if \"kmeans.csv\" not in files:\n",
    "    # Set training data\n",
    "    start = time_ns()\n",
    "    \n",
    "    WSS, BSS = kmeans_statistics(X_train)\n",
    "    kmeans_data = pd.DataFrame({\"WSS\": WSS, \"BSS\": BSS})\n",
    "    kmeans_data.to_csv(\"../data/kmeans.csv\")\n",
    "\n",
    "    end = (time_ns() - start) * pow(10, -9)\n",
    "    print(f\"This task tooks {end: .2f} seconds\")\n",
    "else:\n",
    "    print(\"The results have been stored in ../data/\")"
   ]
  },
  {
   "cell_type": "markdown",
   "id": "0f55b4ac-ff67-4709-a483-07d7f68a029c",
   "metadata": {},
   "source": [
    "Let's apply the elbow method to find out the $k$ that increases the BSS and decreases the WSS significantly."
   ]
  },
  {
   "cell_type": "code",
   "execution_count": null,
   "id": "a8f9d3fe-6ecc-41bf-bd70-c0c960bfc2a0",
   "metadata": {},
   "outputs": [],
   "source": [
    "# Load the results of k-means:\n",
    "df_kmeans = pd.read_csv(\"../data/kmeans.csv\")\n",
    "df_kmeans.drop(\"Unnamed: 0\", axis = 1, inplace=True)\n",
    "df_kmeans[\"K\"] = range(2, df_kmeans.shape[0] + 2)\n",
    "# Graph\n",
    "plot_kmeans_stats(df_kmeans)"
   ]
  },
  {
   "cell_type": "markdown",
   "id": "f9e2defb-e2b7-4000-87b9-15b67775244e",
   "metadata": {},
   "source": [
    "You can see that there is a $k$ between 0 and 10 (approx.), where both WSS and BSS converge. Let's take a closer look at this."
   ]
  },
  {
   "cell_type": "code",
   "execution_count": null,
   "id": "f7866135-cae1-4d74-944d-86887a9539c3",
   "metadata": {},
   "outputs": [],
   "source": [
    "plot_kmeans_stats(df_kmeans.iloc[:10, :])"
   ]
  },
  {
   "cell_type": "markdown",
   "id": "d906f734-93d2-40df-b3dd-d05f8e73ec60",
   "metadata": {},
   "source": [
    "The elbow is at $k = 4$. And we have only considered the 20% of observations for the training data. So, let's check which features are characterized for these 4 clusters obtained."
   ]
  },
  {
   "cell_type": "code",
   "execution_count": null,
   "id": "33e90b8f-bd03-4884-b4fc-34e3fbe56160",
   "metadata": {},
   "outputs": [],
   "source": [
    "model = KMeans(n_clusters=4, random_state=123)\n",
    "model.fit(X_train)\n",
    "# Get centroids\n",
    "centroid_clusters(model, X_train.columns)"
   ]
  },
  {
   "cell_type": "markdown",
   "id": "8c416485-1b8e-4917-9987-69d5db2f9cef",
   "metadata": {},
   "source": [
    "As we saw earlier, only a small group of individuals ($\\approx <5\\%$) have spent millions of dollars in purchases, despite the fact that they are not frequent customers. On the other hand, since the $\\approx 97\\%$ of people have spent at most as 100 dollars in purchases, then it is normal that when sampling, the vast majority of data points will come from this group.\n",
    "\n",
    "Although the $K$-means algorithm by using the elbow method suggest to take $k=4$. We could consider that there are two groups that are defined in the following way:\n",
    "* Cluster 1: People who could be considered frequent shoppers. Well, on average, they have purchased more than 35 products and their most recent purchase was in the last 3 months.\n",
    "* Cluster 2: There are characteristics that people who have spent millions of dollars on purchases have in common. On average, they have only purchased less than 5 products and their last purchases was more than 10 months ago."
   ]
  },
  {
   "cell_type": "markdown",
   "id": "d800944b-303b-4a76-8d75-26f46262d562",
   "metadata": {},
   "source": [
    "---\n",
    "\n",
    "## PRODUCTS DATASET\n",
    "\n",
    "It contains the information about the products that digital retail offers:\n",
    "\n",
    "### Variables:\n",
    "* Discount: Indicate if the product is on sale (eg. 1 or 0).\n",
    "* Embedding: A lower dimensional representation of the product flat's image from computer vision techniques.\n",
    "* Partnumber: Product ID.\n",
    "* Color ID: Product color identifier.\n",
    "* Code section: Section to which the product belongs.\n",
    "* Family: Product family to which the product belongs. "
   ]
  },
  {
   "cell_type": "code",
   "execution_count": null,
   "id": "e96b3396-adb5-441c-accd-57dea30c0635",
   "metadata": {},
   "outputs": [],
   "source": [
    "with open(\"../data/products.pkl\", \"rb\") as df:\n",
    "    df_products = pickle.load(df)"
   ]
  },
  {
   "cell_type": "markdown",
   "id": "b8ad5de1-294d-477a-a0bc-abb3e85cc621",
   "metadata": {},
   "source": [
    "We have the embeddings of the products's images, which are multidimentional vectors that capture the main visual features of each product. So, by using this variable, we can assess the similarity between products, analyzing their shapes, textures and other characteristics. \n",
    "\n",
    "So, the goal is to group those products with similar features by using the HDBSCAN algorithm. Also, we could suspect about the number of clusters by using the `Family` or `Code section` variables."
   ]
  },
  {
   "cell_type": "code",
   "execution_count": null,
   "id": "5be06a65-17fa-4b0a-bb0e-96def8e86c8f",
   "metadata": {},
   "outputs": [],
   "source": [
    "df_products.loc[:, [\"cod_section\", \"family\"]].describe().loc[[\"min\", \"max\"], :]"
   ]
  },
  {
   "cell_type": "code",
   "execution_count": null,
   "id": "8194055f-bc0f-484a-96e7-067ec427c1ef",
   "metadata": {},
   "outputs": [],
   "source": [
    "df_products.info()"
   ]
  },
  {
   "cell_type": "markdown",
   "id": "b05c5deb-a031-41d2-b42f-aaec42489068",
   "metadata": {},
   "source": [
    "There is a problem with the column `embedding`, since there are null values into it. So, we have to discard them to apply the ML algorithm. Also, it's important to normalize them in order to ignore their magnitudes.\n",
    "\n",
    "Similarly, we only need to keep the data points that don't have null values in either cod_section or family, since we want to know if the products that belong to the same category or both have similar visual characteristics. "
   ]
  },
  {
   "cell_type": "code",
   "execution_count": null,
   "id": "e2500bf3-5e2d-4e27-a693-c9191b619d88",
   "metadata": {},
   "outputs": [],
   "source": [
    "# Load embeddings\n",
    "data_files = os.listdir(os.path.abspath(os.path.join(os.getcwd(), \"../data\")))\n",
    "if \"embeddings.csv\" not in data_files:\n",
    "    # Check for records with either a cod_section or family that is NaN\n",
    "    invalid_records = np.argwhere(\n",
    "        df_products.loc[:, [\"cod_section\", \"family\"]].isna().sum(axis = 1)  > 0\n",
    "    ).reshape(-1,)\n",
    "    embeddings = df_products.drop(invalid_records).loc[df_products.embedding.apply(lambda x: x is not None), \"embedding\"]\n",
    "    embeddings = embeddings / embeddings.apply(lambda emb: np.linalg.norm(emb))\n",
    "    df_embeddings = []\n",
    "    for record in embeddings:\n",
    "        df_embeddings.append(record)\n",
    "    pd.DataFrame(\n",
    "        df_embeddings, \n",
    "        index = embeddings.index).reset_index(names = [\"index\"]).to_csv(\"../data/embeddings.csv\")\n",
    "else:\n",
    "    print(\"embeddings.csv already exists\")\n",
    "    df_embeddings = pd.read_csv(\"../data/embeddings.csv\").iloc[:, 1:]\n",
    "    df_embeddings.set_index(\"index\", inplace = True)"
   ]
  },
  {
   "cell_type": "markdown",
   "id": "cd52983d-9284-4ae7-bb4e-a1b2b877539e",
   "metadata": {},
   "source": [
    "We have decided to use HDBSCAN instead of classical DBSCAN, because the embeddings are high dimensional (d = 1280), what reduces the efectiveness of this algorithm due to the curse of dimensionality, where as dimensions increase, the contrast between near and far distances diminishes. This causes that the task of finding the hyperparameter `eps`, maximum distance between two points to be considered neighbors, mathematically intractable. \n",
    "\n",
    "On the other hand, with HDBSCAN we only need to set the minimum size of a cluster, value that we can approximate by using the smallest frequency within our categorical variables (`cod_section`, `family`). This hyperparameter is similar to `min_samples`, minimum number of neighbors around a point $p$ to be considered a core point and to form a dense region, in DBSCAN.\n",
    "\n",
    "Also, we will use the cosine distance $\\Big(1 - \\cos(\\theta)\\Big)$ for this task, because the direction between these multi-dimentional vectors tell us which products have similar visual features. "
   ]
  },
  {
   "cell_type": "code",
   "execution_count": null,
   "id": "7010bb29-6274-482e-bf7f-a5c51c6764e7",
   "metadata": {},
   "outputs": [],
   "source": [
    "# Set a random sample\n",
    "np.random.seed(987)\n",
    "n = df_embeddings.shape[0]\n",
    "products_sample = df_embeddings.iloc[np.random.choice(n + 1, round(n * 0.2)), :].copy()"
   ]
  },
  {
   "cell_type": "code",
   "execution_count": null,
   "id": "df17c7cc-4479-4bd2-bf29-fd653b10f9aa",
   "metadata": {},
   "outputs": [],
   "source": [
    "(\n",
    "    df_products.loc[\n",
    "        products_sample.index, \n",
    "        [\"family\", \"cod_section\"]].\n",
    "    apply(lambda var: \n",
    "          var.value_counts().describe())\n",
    ")"
   ]
  },
  {
   "cell_type": "markdown",
   "id": "316986a4-b983-4693-991e-870f72ef9181",
   "metadata": {},
   "source": [
    "We have a problem here. The minimum size of a code section is 1266, while there are families with only one member. Calculating the average of the number of records by using a group by operation is not correct, the result could be influenced for the large groups. \n",
    "\n",
    "For this approach, it would be better to use different values based on the percentiles and check the performance of the models."
   ]
  },
  {
   "cell_type": "code",
   "execution_count": null,
   "id": "029b9423-841f-4598-9754-8b7e76028010",
   "metadata": {},
   "outputs": [],
   "source": [
    "groups  = df_products.loc[\n",
    "    products_sample.index, \n",
    "    [\"partnumber\", \"cod_section\", \"family\"]].groupby(\n",
    "        by = [\"cod_section\", \"family\"]).agg(\n",
    "        {\"partnumber\": \"count\"}\n",
    "    )\n",
    "(\n",
    "    groups.\n",
    "    plot(kind = \"box\",\n",
    "        title = \"Group size distribution\")\n",
    ")\n",
    "plt.show()"
   ]
  },
  {
   "cell_type": "code",
   "execution_count": null,
   "id": "d72aa355-4416-43b1-a486-872cc3db0ea9",
   "metadata": {},
   "outputs": [],
   "source": [
    "groups.describe()"
   ]
  },
  {
   "cell_type": "code",
   "execution_count": null,
   "id": "01d81264-af12-4049-a3b1-1a890c725e60",
   "metadata": {},
   "outputs": [],
   "source": [
    "# Calculate the ratio of outliers\n",
    "Q1, Q3 = np.quantile(groups, [0.25, 0.75])\n",
    "IQR = Q3 - Q1\n",
    "maximum = IQR*1.5 + Q3 \n",
    "ratio_outliers = np.mean(groups > maximum)\n",
    "print(f\"The {(1 - ratio_outliers) * 100: .2f}% of the groups have at most {maximum: .0f} elements.\")"
   ]
  },
  {
   "cell_type": "code",
   "execution_count": null,
   "id": "49ea564e-fe6a-4326-8640-74dcc4a4feed",
   "metadata": {},
   "outputs": [],
   "source": [
    "df_groups = pd.DataFrame(list(groups.index), columns = [\"cod_section\", \"family\"])\n",
    "df_groups[\"class\"] = np.arange(groups.shape[0])"
   ]
  },
  {
   "cell_type": "code",
   "execution_count": null,
   "id": "606ce927-fa7c-4887-b988-750d971cbb70",
   "metadata": {},
   "outputs": [],
   "source": [
    "cls_col = df_products.loc[products_sample.index, \n",
    "                        [\"cod_section\", \"family\"]].merge(\n",
    "                            df_groups, on = [\"cod_section\", \"family\"], how = \"inner\").loc[:, \"class\"]\n",
    "products_sample[\"class\"] = list(cls_col)"
   ]
  },
  {
   "cell_type": "code",
   "execution_count": null,
   "id": "a3ffba22-6916-43d7-bd0c-dd09bd13075f",
   "metadata": {},
   "outputs": [],
   "source": [
    "# HDBSCAN ANALYSIS\n",
    "hdbscan = HDBSCAN_Analysis(X=products_sample.iloc[:,:-1], Y = products_sample[\"class\"])"
   ]
  },
  {
   "cell_type": "code",
   "execution_count": null,
   "id": "73ce5a90-9c52-47ca-a12d-352669428f37",
   "metadata": {},
   "outputs": [],
   "source": [
    "hdbscan.compare_models([4, 10, 24, 50, 100, 200])"
   ]
  },
  {
   "cell_type": "markdown",
   "id": "53e8502d-72b5-4349-85c2-61b53497992b",
   "metadata": {},
   "source": [
    "We can see a decreasing trend in the DBSCAN statistics, where more than 50% of the observations are classified as noise. There is not a good correspondence between the clusters and the real categories of the data points. Also, the clusters don't remain robust when the threshold density in the hierarchical structure is increased. \n",
    "\n",
    "Unfortunately, we cannot find clusters using the embeddings of the flat images of the products. The aim was to group the products with similar visual features and we expected to achieve this using the categorical variables such as cod_section and family."
   ]
  }
 ],
 "metadata": {
  "kernelspec": {
   "display_name": "Python 3 (ipykernel)",
   "language": "python",
   "name": "python3"
  },
  "language_info": {
   "codemirror_mode": {
    "name": "ipython",
    "version": 3
   },
   "file_extension": ".py",
   "mimetype": "text/x-python",
   "name": "python",
   "nbconvert_exporter": "python",
   "pygments_lexer": "ipython3",
   "version": "3.12.3"
  }
 },
 "nbformat": 4,
 "nbformat_minor": 5
}
